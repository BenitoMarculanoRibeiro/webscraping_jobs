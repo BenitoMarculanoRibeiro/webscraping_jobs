{
 "cells": [
  {
   "cell_type": "code",
   "execution_count": 29,
   "metadata": {},
   "outputs": [],
   "source": [
    "from datetime import datetime\n",
    "import pymysql\n",
    "import requests\n",
    "import time\n",
    "con = pymysql.connect(\n",
    "    host='remotemysql.com',\n",
    "    user='aEe2LdBimG', password='SvfgdVTUw5',\n",
    "    database='aEe2LdBimG',\n",
    "    cursorclass=pymysql.cursors.DictCursor\n",
    ")\n",
    "'''\n",
    "con = pymysql.connect(\n",
    "    host='databases.000webhost.com',\n",
    "    user='id18996132_benito', password='3xacW)y<ojpLL2TX',\n",
    "    database='id18996132_empregos',\n",
    "    cursorclass=pymysql.cursors.DictCursor\n",
    ")'''\n",
    "HEADERS = ({'User-Agent':\n",
    "            'Mozilla/5.0 (X11; Linux x86_64) AppleWebKit/537.36 \\\n",
    "            (KHTML, like Gecko) Chrome/44.0.2403.157 Safari/537.36',\n",
    "            'Accept-Language': 'pt-br, pt;q=0.5'})"
   ]
  },
  {
   "cell_type": "code",
   "execution_count": null,
   "metadata": {},
   "outputs": [],
   "source": [
    "mycursor = con.cursor()\n",
    "sql = \"SELECT * FROM vagas\"\n",
    "mycursor.execute(sql)\n",
    "vagas = mycursor.fetchall()\n",
    "print(len(vagas))"
   ]
  },
  {
   "cell_type": "code",
   "execution_count": null,
   "metadata": {},
   "outputs": [],
   "source": [
    "print(vagas[0])"
   ]
  },
  {
   "cell_type": "code",
   "execution_count": 5,
   "metadata": {},
   "outputs": [],
   "source": [
    "vagas = [('1','5','3','4','5'), ('1','4','3','4','4')]\n",
    "with con.cursor() as c:\n",
    "    sql = \"INSERT INTO `vagas` (`titulo`, `link`, `cidade`, `descricao`) SELECT %s, %s, %s, %s WHERE NOT EXISTS(SELECT 1 FROM `vagas` WHERE `link` = %s)\"\n",
    "    #sql = \"INSERT INTO `vagas` (`id`, `titulo`, `link`, `cidade`, `descricao`) VALUES (NULL, %a, %b,%c, %d);\"\n",
    "    #sql = \"INSERT INTO relacao(user_1, user_2) SELECT x.user_1, x.user_2 FROM (SELECT 'Pedro' user_1, 'Laura' user_2) x WHERE NOT EXISTS(SELECT 1  FROM relacao r  WHERE r.user_1 = x.user_1 AND r.user_2 = x.user_2)\"\n",
    "    c.executemany(sql, vagas)\n",
    "con.commit()"
   ]
  },
  {
   "cell_type": "code",
   "execution_count": 35,
   "metadata": {},
   "outputs": [
    {
     "name": "stdout",
     "output_type": "stream",
     "text": [
      "Vagas 60\n",
      "31 record(s) inserted.\n",
      "Pagina: 2\n",
      "Vagas 60\n",
      "0 record(s) inserted.\n",
      "Pagina: 3\n",
      "Vagas 60\n",
      "0 record(s) inserted.\n",
      "Pagina: 4\n",
      "Vagas 60\n",
      "0 record(s) inserted.\n",
      "Pagina: 5\n",
      "Vagas 60\n",
      "0 record(s) inserted.\n",
      "Pagina: 6\n",
      "Vagas 60\n"
     ]
    },
    {
     "ename": "KeyboardInterrupt",
     "evalue": "",
     "output_type": "error",
     "traceback": [
      "\u001b[1;31m---------------------------------------------------------------------------\u001b[0m",
      "\u001b[1;31mKeyboardInterrupt\u001b[0m                         Traceback (most recent call last)",
      "\u001b[1;32mc:\\Users\\benit\\Documents\\GitHub\\webscraping_jobs\\trabalhabrasil.ipynb Cell 5'\u001b[0m in \u001b[0;36m<cell line: 8>\u001b[1;34m()\u001b[0m\n\u001b[0;32m     <a href='vscode-notebook-cell:/c%3A/Users/benit/Documents/GitHub/webscraping_jobs/trabalhabrasil.ipynb#ch0000004?line=24'>25</a>\u001b[0m \u001b[39mwith\u001b[39;00m con\u001b[39m.\u001b[39mcursor() \u001b[39mas\u001b[39;00m c:\n\u001b[0;32m     <a href='vscode-notebook-cell:/c%3A/Users/benit/Documents/GitHub/webscraping_jobs/trabalhabrasil.ipynb#ch0000004?line=25'>26</a>\u001b[0m     sql \u001b[39m=\u001b[39m \u001b[39m\"\u001b[39m\u001b[39mINSERT INTO `vagas` (`titulo`, `link`, `cidade`, `descricao`) SELECT \u001b[39m\u001b[39m%s\u001b[39;00m\u001b[39m, \u001b[39m\u001b[39m%s\u001b[39;00m\u001b[39m, \u001b[39m\u001b[39m%s\u001b[39;00m\u001b[39m, \u001b[39m\u001b[39m%s\u001b[39;00m\u001b[39m WHERE NOT EXISTS(SELECT 1 FROM `vagas` WHERE `link` = \u001b[39m\u001b[39m%s\u001b[39;00m\u001b[39m)\u001b[39m\u001b[39m\"\u001b[39m\n\u001b[1;32m---> <a href='vscode-notebook-cell:/c%3A/Users/benit/Documents/GitHub/webscraping_jobs/trabalhabrasil.ipynb#ch0000004?line=26'>27</a>\u001b[0m     c\u001b[39m.\u001b[39;49mexecutemany(sql, vagas)\n\u001b[0;32m     <a href='vscode-notebook-cell:/c%3A/Users/benit/Documents/GitHub/webscraping_jobs/trabalhabrasil.ipynb#ch0000004?line=27'>28</a>\u001b[0m     con\u001b[39m.\u001b[39mcommit()\n\u001b[0;32m     <a href='vscode-notebook-cell:/c%3A/Users/benit/Documents/GitHub/webscraping_jobs/trabalhabrasil.ipynb#ch0000004?line=28'>29</a>\u001b[0m     \u001b[39mprint\u001b[39m(c\u001b[39m.\u001b[39mrowcount, \u001b[39m\"\u001b[39m\u001b[39mrecord(s) inserted.\u001b[39m\u001b[39m\"\u001b[39m)\n",
      "File \u001b[1;32mc:\\Users\\benit\\Documents\\GitHub\\webscraping_jobs\\env\\lib\\site-packages\\pymysql\\cursors.py:182\u001b[0m, in \u001b[0;36mCursor.executemany\u001b[1;34m(self, query, args)\u001b[0m\n\u001b[0;32m    <a href='file:///c%3A/Users/benit/Documents/GitHub/webscraping_jobs/env/lib/site-packages/pymysql/cursors.py?line=171'>172</a>\u001b[0m     \u001b[39massert\u001b[39;00m q_values[\u001b[39m0\u001b[39m] \u001b[39m==\u001b[39m \u001b[39m\"\u001b[39m\u001b[39m(\u001b[39m\u001b[39m\"\u001b[39m \u001b[39mand\u001b[39;00m q_values[\u001b[39m-\u001b[39m\u001b[39m1\u001b[39m] \u001b[39m==\u001b[39m \u001b[39m\"\u001b[39m\u001b[39m)\u001b[39m\u001b[39m\"\u001b[39m\n\u001b[0;32m    <a href='file:///c%3A/Users/benit/Documents/GitHub/webscraping_jobs/env/lib/site-packages/pymysql/cursors.py?line=172'>173</a>\u001b[0m     \u001b[39mreturn\u001b[39;00m \u001b[39mself\u001b[39m\u001b[39m.\u001b[39m_do_execute_many(\n\u001b[0;32m    <a href='file:///c%3A/Users/benit/Documents/GitHub/webscraping_jobs/env/lib/site-packages/pymysql/cursors.py?line=173'>174</a>\u001b[0m         q_prefix,\n\u001b[0;32m    <a href='file:///c%3A/Users/benit/Documents/GitHub/webscraping_jobs/env/lib/site-packages/pymysql/cursors.py?line=174'>175</a>\u001b[0m         q_values,\n\u001b[1;32m   (...)\u001b[0m\n\u001b[0;32m    <a href='file:///c%3A/Users/benit/Documents/GitHub/webscraping_jobs/env/lib/site-packages/pymysql/cursors.py?line=178'>179</a>\u001b[0m         \u001b[39mself\u001b[39m\u001b[39m.\u001b[39m_get_db()\u001b[39m.\u001b[39mencoding,\n\u001b[0;32m    <a href='file:///c%3A/Users/benit/Documents/GitHub/webscraping_jobs/env/lib/site-packages/pymysql/cursors.py?line=179'>180</a>\u001b[0m     )\n\u001b[1;32m--> <a href='file:///c%3A/Users/benit/Documents/GitHub/webscraping_jobs/env/lib/site-packages/pymysql/cursors.py?line=181'>182</a>\u001b[0m \u001b[39mself\u001b[39m\u001b[39m.\u001b[39mrowcount \u001b[39m=\u001b[39m \u001b[39msum\u001b[39;49m(\u001b[39mself\u001b[39;49m\u001b[39m.\u001b[39;49mexecute(query, arg) \u001b[39mfor\u001b[39;49;00m arg \u001b[39min\u001b[39;49;00m args)\n\u001b[0;32m    <a href='file:///c%3A/Users/benit/Documents/GitHub/webscraping_jobs/env/lib/site-packages/pymysql/cursors.py?line=182'>183</a>\u001b[0m \u001b[39mreturn\u001b[39;00m \u001b[39mself\u001b[39m\u001b[39m.\u001b[39mrowcount\n",
      "File \u001b[1;32mc:\\Users\\benit\\Documents\\GitHub\\webscraping_jobs\\env\\lib\\site-packages\\pymysql\\cursors.py:182\u001b[0m, in \u001b[0;36m<genexpr>\u001b[1;34m(.0)\u001b[0m\n\u001b[0;32m    <a href='file:///c%3A/Users/benit/Documents/GitHub/webscraping_jobs/env/lib/site-packages/pymysql/cursors.py?line=171'>172</a>\u001b[0m     \u001b[39massert\u001b[39;00m q_values[\u001b[39m0\u001b[39m] \u001b[39m==\u001b[39m \u001b[39m\"\u001b[39m\u001b[39m(\u001b[39m\u001b[39m\"\u001b[39m \u001b[39mand\u001b[39;00m q_values[\u001b[39m-\u001b[39m\u001b[39m1\u001b[39m] \u001b[39m==\u001b[39m \u001b[39m\"\u001b[39m\u001b[39m)\u001b[39m\u001b[39m\"\u001b[39m\n\u001b[0;32m    <a href='file:///c%3A/Users/benit/Documents/GitHub/webscraping_jobs/env/lib/site-packages/pymysql/cursors.py?line=172'>173</a>\u001b[0m     \u001b[39mreturn\u001b[39;00m \u001b[39mself\u001b[39m\u001b[39m.\u001b[39m_do_execute_many(\n\u001b[0;32m    <a href='file:///c%3A/Users/benit/Documents/GitHub/webscraping_jobs/env/lib/site-packages/pymysql/cursors.py?line=173'>174</a>\u001b[0m         q_prefix,\n\u001b[0;32m    <a href='file:///c%3A/Users/benit/Documents/GitHub/webscraping_jobs/env/lib/site-packages/pymysql/cursors.py?line=174'>175</a>\u001b[0m         q_values,\n\u001b[1;32m   (...)\u001b[0m\n\u001b[0;32m    <a href='file:///c%3A/Users/benit/Documents/GitHub/webscraping_jobs/env/lib/site-packages/pymysql/cursors.py?line=178'>179</a>\u001b[0m         \u001b[39mself\u001b[39m\u001b[39m.\u001b[39m_get_db()\u001b[39m.\u001b[39mencoding,\n\u001b[0;32m    <a href='file:///c%3A/Users/benit/Documents/GitHub/webscraping_jobs/env/lib/site-packages/pymysql/cursors.py?line=179'>180</a>\u001b[0m     )\n\u001b[1;32m--> <a href='file:///c%3A/Users/benit/Documents/GitHub/webscraping_jobs/env/lib/site-packages/pymysql/cursors.py?line=181'>182</a>\u001b[0m \u001b[39mself\u001b[39m\u001b[39m.\u001b[39mrowcount \u001b[39m=\u001b[39m \u001b[39msum\u001b[39m(\u001b[39mself\u001b[39;49m\u001b[39m.\u001b[39;49mexecute(query, arg) \u001b[39mfor\u001b[39;00m arg \u001b[39min\u001b[39;00m args)\n\u001b[0;32m    <a href='file:///c%3A/Users/benit/Documents/GitHub/webscraping_jobs/env/lib/site-packages/pymysql/cursors.py?line=182'>183</a>\u001b[0m \u001b[39mreturn\u001b[39;00m \u001b[39mself\u001b[39m\u001b[39m.\u001b[39mrowcount\n",
      "File \u001b[1;32mc:\\Users\\benit\\Documents\\GitHub\\webscraping_jobs\\env\\lib\\site-packages\\pymysql\\cursors.py:148\u001b[0m, in \u001b[0;36mCursor.execute\u001b[1;34m(self, query, args)\u001b[0m\n\u001b[0;32m    <a href='file:///c%3A/Users/benit/Documents/GitHub/webscraping_jobs/env/lib/site-packages/pymysql/cursors.py?line=143'>144</a>\u001b[0m     \u001b[39mpass\u001b[39;00m\n\u001b[0;32m    <a href='file:///c%3A/Users/benit/Documents/GitHub/webscraping_jobs/env/lib/site-packages/pymysql/cursors.py?line=145'>146</a>\u001b[0m query \u001b[39m=\u001b[39m \u001b[39mself\u001b[39m\u001b[39m.\u001b[39mmogrify(query, args)\n\u001b[1;32m--> <a href='file:///c%3A/Users/benit/Documents/GitHub/webscraping_jobs/env/lib/site-packages/pymysql/cursors.py?line=147'>148</a>\u001b[0m result \u001b[39m=\u001b[39m \u001b[39mself\u001b[39;49m\u001b[39m.\u001b[39;49m_query(query)\n\u001b[0;32m    <a href='file:///c%3A/Users/benit/Documents/GitHub/webscraping_jobs/env/lib/site-packages/pymysql/cursors.py?line=148'>149</a>\u001b[0m \u001b[39mself\u001b[39m\u001b[39m.\u001b[39m_executed \u001b[39m=\u001b[39m query\n\u001b[0;32m    <a href='file:///c%3A/Users/benit/Documents/GitHub/webscraping_jobs/env/lib/site-packages/pymysql/cursors.py?line=149'>150</a>\u001b[0m \u001b[39mreturn\u001b[39;00m result\n",
      "File \u001b[1;32mc:\\Users\\benit\\Documents\\GitHub\\webscraping_jobs\\env\\lib\\site-packages\\pymysql\\cursors.py:310\u001b[0m, in \u001b[0;36mCursor._query\u001b[1;34m(self, q)\u001b[0m\n\u001b[0;32m    <a href='file:///c%3A/Users/benit/Documents/GitHub/webscraping_jobs/env/lib/site-packages/pymysql/cursors.py?line=307'>308</a>\u001b[0m \u001b[39mself\u001b[39m\u001b[39m.\u001b[39m_last_executed \u001b[39m=\u001b[39m q\n\u001b[0;32m    <a href='file:///c%3A/Users/benit/Documents/GitHub/webscraping_jobs/env/lib/site-packages/pymysql/cursors.py?line=308'>309</a>\u001b[0m \u001b[39mself\u001b[39m\u001b[39m.\u001b[39m_clear_result()\n\u001b[1;32m--> <a href='file:///c%3A/Users/benit/Documents/GitHub/webscraping_jobs/env/lib/site-packages/pymysql/cursors.py?line=309'>310</a>\u001b[0m conn\u001b[39m.\u001b[39;49mquery(q)\n\u001b[0;32m    <a href='file:///c%3A/Users/benit/Documents/GitHub/webscraping_jobs/env/lib/site-packages/pymysql/cursors.py?line=310'>311</a>\u001b[0m \u001b[39mself\u001b[39m\u001b[39m.\u001b[39m_do_get_result()\n\u001b[0;32m    <a href='file:///c%3A/Users/benit/Documents/GitHub/webscraping_jobs/env/lib/site-packages/pymysql/cursors.py?line=311'>312</a>\u001b[0m \u001b[39mreturn\u001b[39;00m \u001b[39mself\u001b[39m\u001b[39m.\u001b[39mrowcount\n",
      "File \u001b[1;32mc:\\Users\\benit\\Documents\\GitHub\\webscraping_jobs\\env\\lib\\site-packages\\pymysql\\connections.py:548\u001b[0m, in \u001b[0;36mConnection.query\u001b[1;34m(self, sql, unbuffered)\u001b[0m\n\u001b[0;32m    <a href='file:///c%3A/Users/benit/Documents/GitHub/webscraping_jobs/env/lib/site-packages/pymysql/connections.py?line=545'>546</a>\u001b[0m     sql \u001b[39m=\u001b[39m sql\u001b[39m.\u001b[39mencode(\u001b[39mself\u001b[39m\u001b[39m.\u001b[39mencoding, \u001b[39m\"\u001b[39m\u001b[39msurrogateescape\u001b[39m\u001b[39m\"\u001b[39m)\n\u001b[0;32m    <a href='file:///c%3A/Users/benit/Documents/GitHub/webscraping_jobs/env/lib/site-packages/pymysql/connections.py?line=546'>547</a>\u001b[0m \u001b[39mself\u001b[39m\u001b[39m.\u001b[39m_execute_command(COMMAND\u001b[39m.\u001b[39mCOM_QUERY, sql)\n\u001b[1;32m--> <a href='file:///c%3A/Users/benit/Documents/GitHub/webscraping_jobs/env/lib/site-packages/pymysql/connections.py?line=547'>548</a>\u001b[0m \u001b[39mself\u001b[39m\u001b[39m.\u001b[39m_affected_rows \u001b[39m=\u001b[39m \u001b[39mself\u001b[39;49m\u001b[39m.\u001b[39;49m_read_query_result(unbuffered\u001b[39m=\u001b[39;49munbuffered)\n\u001b[0;32m    <a href='file:///c%3A/Users/benit/Documents/GitHub/webscraping_jobs/env/lib/site-packages/pymysql/connections.py?line=548'>549</a>\u001b[0m \u001b[39mreturn\u001b[39;00m \u001b[39mself\u001b[39m\u001b[39m.\u001b[39m_affected_rows\n",
      "File \u001b[1;32mc:\\Users\\benit\\Documents\\GitHub\\webscraping_jobs\\env\\lib\\site-packages\\pymysql\\connections.py:775\u001b[0m, in \u001b[0;36mConnection._read_query_result\u001b[1;34m(self, unbuffered)\u001b[0m\n\u001b[0;32m    <a href='file:///c%3A/Users/benit/Documents/GitHub/webscraping_jobs/env/lib/site-packages/pymysql/connections.py?line=772'>773</a>\u001b[0m \u001b[39melse\u001b[39;00m:\n\u001b[0;32m    <a href='file:///c%3A/Users/benit/Documents/GitHub/webscraping_jobs/env/lib/site-packages/pymysql/connections.py?line=773'>774</a>\u001b[0m     result \u001b[39m=\u001b[39m MySQLResult(\u001b[39mself\u001b[39m)\n\u001b[1;32m--> <a href='file:///c%3A/Users/benit/Documents/GitHub/webscraping_jobs/env/lib/site-packages/pymysql/connections.py?line=774'>775</a>\u001b[0m     result\u001b[39m.\u001b[39;49mread()\n\u001b[0;32m    <a href='file:///c%3A/Users/benit/Documents/GitHub/webscraping_jobs/env/lib/site-packages/pymysql/connections.py?line=775'>776</a>\u001b[0m \u001b[39mself\u001b[39m\u001b[39m.\u001b[39m_result \u001b[39m=\u001b[39m result\n\u001b[0;32m    <a href='file:///c%3A/Users/benit/Documents/GitHub/webscraping_jobs/env/lib/site-packages/pymysql/connections.py?line=776'>777</a>\u001b[0m \u001b[39mif\u001b[39;00m result\u001b[39m.\u001b[39mserver_status \u001b[39mis\u001b[39;00m \u001b[39mnot\u001b[39;00m \u001b[39mNone\u001b[39;00m:\n",
      "File \u001b[1;32mc:\\Users\\benit\\Documents\\GitHub\\webscraping_jobs\\env\\lib\\site-packages\\pymysql\\connections.py:1156\u001b[0m, in \u001b[0;36mMySQLResult.read\u001b[1;34m(self)\u001b[0m\n\u001b[0;32m   <a href='file:///c%3A/Users/benit/Documents/GitHub/webscraping_jobs/env/lib/site-packages/pymysql/connections.py?line=1153'>1154</a>\u001b[0m \u001b[39mdef\u001b[39;00m \u001b[39mread\u001b[39m(\u001b[39mself\u001b[39m):\n\u001b[0;32m   <a href='file:///c%3A/Users/benit/Documents/GitHub/webscraping_jobs/env/lib/site-packages/pymysql/connections.py?line=1154'>1155</a>\u001b[0m     \u001b[39mtry\u001b[39;00m:\n\u001b[1;32m-> <a href='file:///c%3A/Users/benit/Documents/GitHub/webscraping_jobs/env/lib/site-packages/pymysql/connections.py?line=1155'>1156</a>\u001b[0m         first_packet \u001b[39m=\u001b[39m \u001b[39mself\u001b[39;49m\u001b[39m.\u001b[39;49mconnection\u001b[39m.\u001b[39;49m_read_packet()\n\u001b[0;32m   <a href='file:///c%3A/Users/benit/Documents/GitHub/webscraping_jobs/env/lib/site-packages/pymysql/connections.py?line=1157'>1158</a>\u001b[0m         \u001b[39mif\u001b[39;00m first_packet\u001b[39m.\u001b[39mis_ok_packet():\n\u001b[0;32m   <a href='file:///c%3A/Users/benit/Documents/GitHub/webscraping_jobs/env/lib/site-packages/pymysql/connections.py?line=1158'>1159</a>\u001b[0m             \u001b[39mself\u001b[39m\u001b[39m.\u001b[39m_read_ok_packet(first_packet)\n",
      "File \u001b[1;32mc:\\Users\\benit\\Documents\\GitHub\\webscraping_jobs\\env\\lib\\site-packages\\pymysql\\connections.py:692\u001b[0m, in \u001b[0;36mConnection._read_packet\u001b[1;34m(self, packet_type)\u001b[0m\n\u001b[0;32m    <a href='file:///c%3A/Users/benit/Documents/GitHub/webscraping_jobs/env/lib/site-packages/pymysql/connections.py?line=689'>690</a>\u001b[0m buff \u001b[39m=\u001b[39m \u001b[39mbytearray\u001b[39m()\n\u001b[0;32m    <a href='file:///c%3A/Users/benit/Documents/GitHub/webscraping_jobs/env/lib/site-packages/pymysql/connections.py?line=690'>691</a>\u001b[0m \u001b[39mwhile\u001b[39;00m \u001b[39mTrue\u001b[39;00m:\n\u001b[1;32m--> <a href='file:///c%3A/Users/benit/Documents/GitHub/webscraping_jobs/env/lib/site-packages/pymysql/connections.py?line=691'>692</a>\u001b[0m     packet_header \u001b[39m=\u001b[39m \u001b[39mself\u001b[39;49m\u001b[39m.\u001b[39;49m_read_bytes(\u001b[39m4\u001b[39;49m)\n\u001b[0;32m    <a href='file:///c%3A/Users/benit/Documents/GitHub/webscraping_jobs/env/lib/site-packages/pymysql/connections.py?line=692'>693</a>\u001b[0m     \u001b[39m# if DEBUG: dump_packet(packet_header)\u001b[39;00m\n\u001b[0;32m    <a href='file:///c%3A/Users/benit/Documents/GitHub/webscraping_jobs/env/lib/site-packages/pymysql/connections.py?line=694'>695</a>\u001b[0m     btrl, btrh, packet_number \u001b[39m=\u001b[39m struct\u001b[39m.\u001b[39munpack(\u001b[39m\"\u001b[39m\u001b[39m<HBB\u001b[39m\u001b[39m\"\u001b[39m, packet_header)\n",
      "File \u001b[1;32mc:\\Users\\benit\\Documents\\GitHub\\webscraping_jobs\\env\\lib\\site-packages\\pymysql\\connections.py:732\u001b[0m, in \u001b[0;36mConnection._read_bytes\u001b[1;34m(self, num_bytes)\u001b[0m\n\u001b[0;32m    <a href='file:///c%3A/Users/benit/Documents/GitHub/webscraping_jobs/env/lib/site-packages/pymysql/connections.py?line=729'>730</a>\u001b[0m \u001b[39mwhile\u001b[39;00m \u001b[39mTrue\u001b[39;00m:\n\u001b[0;32m    <a href='file:///c%3A/Users/benit/Documents/GitHub/webscraping_jobs/env/lib/site-packages/pymysql/connections.py?line=730'>731</a>\u001b[0m     \u001b[39mtry\u001b[39;00m:\n\u001b[1;32m--> <a href='file:///c%3A/Users/benit/Documents/GitHub/webscraping_jobs/env/lib/site-packages/pymysql/connections.py?line=731'>732</a>\u001b[0m         data \u001b[39m=\u001b[39m \u001b[39mself\u001b[39;49m\u001b[39m.\u001b[39;49m_rfile\u001b[39m.\u001b[39;49mread(num_bytes)\n\u001b[0;32m    <a href='file:///c%3A/Users/benit/Documents/GitHub/webscraping_jobs/env/lib/site-packages/pymysql/connections.py?line=732'>733</a>\u001b[0m         \u001b[39mbreak\u001b[39;00m\n\u001b[0;32m    <a href='file:///c%3A/Users/benit/Documents/GitHub/webscraping_jobs/env/lib/site-packages/pymysql/connections.py?line=733'>734</a>\u001b[0m     \u001b[39mexcept\u001b[39;00m (\u001b[39mIOError\u001b[39;00m, \u001b[39mOSError\u001b[39;00m) \u001b[39mas\u001b[39;00m e:\n",
      "File \u001b[1;32m~\\AppData\\Local\\Programs\\Python\\Python38\\lib\\socket.py:669\u001b[0m, in \u001b[0;36mSocketIO.readinto\u001b[1;34m(self, b)\u001b[0m\n\u001b[0;32m    <a href='file:///c%3A/Users/benit/AppData/Local/Programs/Python/Python38/lib/socket.py?line=666'>667</a>\u001b[0m \u001b[39mwhile\u001b[39;00m \u001b[39mTrue\u001b[39;00m:\n\u001b[0;32m    <a href='file:///c%3A/Users/benit/AppData/Local/Programs/Python/Python38/lib/socket.py?line=667'>668</a>\u001b[0m     \u001b[39mtry\u001b[39;00m:\n\u001b[1;32m--> <a href='file:///c%3A/Users/benit/AppData/Local/Programs/Python/Python38/lib/socket.py?line=668'>669</a>\u001b[0m         \u001b[39mreturn\u001b[39;00m \u001b[39mself\u001b[39;49m\u001b[39m.\u001b[39;49m_sock\u001b[39m.\u001b[39;49mrecv_into(b)\n\u001b[0;32m    <a href='file:///c%3A/Users/benit/AppData/Local/Programs/Python/Python38/lib/socket.py?line=669'>670</a>\u001b[0m     \u001b[39mexcept\u001b[39;00m timeout:\n\u001b[0;32m    <a href='file:///c%3A/Users/benit/AppData/Local/Programs/Python/Python38/lib/socket.py?line=670'>671</a>\u001b[0m         \u001b[39mself\u001b[39m\u001b[39m.\u001b[39m_timeout_occurred \u001b[39m=\u001b[39m \u001b[39mTrue\u001b[39;00m\n",
      "\u001b[1;31mKeyboardInterrupt\u001b[0m: "
     ]
    }
   ],
   "source": [
    "con = pymysql.connect(\n",
    "    host='remotemysql.com',\n",
    "    user='aEe2LdBimG', password='SvfgdVTUw5',\n",
    "    database='aEe2LdBimG',\n",
    "    cursorclass=pymysql.cursors.DictCursor\n",
    ")\n",
    "while(True):\n",
    "    pagina = 1\n",
    "    status = True\n",
    "    cont = 0\n",
    "    while(status):\n",
    "        try:\n",
    "            url = f'https://www.trabalhabrasil.com.br/api/v1.0/Job/List?idFuncao=0&idCidade=0&pagina={str(pagina)}&pesquisa=&ordenacao=1&idUsuario=&flgHomeOffice=false'\n",
    "            pages = requests.get(url, headers=HEADERS).json()\n",
    "            if(None != pages):\n",
    "                vagas = []\n",
    "                for page in pages:\n",
    "                    titulo = page['tt']\n",
    "                    link = f'https://www.trabalhabrasil.com.br/{page[\"u\"]}'\n",
    "                    cidade = page['uf']\n",
    "                    descricao = page['d']\n",
    "                    vagas.append((str(titulo), str(link), str(cidade), str(descricao), str(link)))\n",
    "                if len(vagas) > 0:\n",
    "                    with con.cursor() as c:\n",
    "                        sql = \"INSERT INTO `vagas` (`titulo`, `link`, `cidade`, `descricao`) SELECT %s, %s, %s, %s WHERE NOT EXISTS(SELECT 1 FROM `vagas` WHERE `link` = %s)\"\n",
    "                        c.executemany(sql, vagas)\n",
    "                        con.commit()\n",
    "                        print(c.rowcount, \"record(s) inserted.\")\n",
    "                cont += 1\n",
    "                pagina += 1\n",
    "                print(\"Pagina: \" + str(pagina))\n",
    "        except Exception as e:\n",
    "            status = False\n",
    "            print(\"Erro: \", e)\n"
   ]
  }
 ],
 "metadata": {
  "interpreter": {
   "hash": "66a57deeeee2808a41f5c65fcc2cc16daf3454de86d0c6f7ed8f078933e1b61a"
  },
  "kernelspec": {
   "display_name": "Python 3.8.10 ('env': venv)",
   "language": "python",
   "name": "python3"
  },
  "language_info": {
   "codemirror_mode": {
    "name": "ipython",
    "version": 3
   },
   "file_extension": ".py",
   "mimetype": "text/x-python",
   "name": "python",
   "nbconvert_exporter": "python",
   "pygments_lexer": "ipython3",
   "version": "3.8.10"
  },
  "orig_nbformat": 4
 },
 "nbformat": 4,
 "nbformat_minor": 2
}
